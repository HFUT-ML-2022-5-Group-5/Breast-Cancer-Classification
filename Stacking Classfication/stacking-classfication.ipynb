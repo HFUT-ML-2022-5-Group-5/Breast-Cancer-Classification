{
 "cells": [
  {
   "cell_type": "code",
   "execution_count": 2,
   "id": "cb0b5dd9",
   "metadata": {
    "_cell_guid": "b1076dfc-b9ad-4769-8c92-a6c4dae69d19",
    "_uuid": "8f2839f25d086af736a60e9eeb907d3b93b6e0e5",
    "execution": {
     "iopub.execute_input": "2024-04-13T12:12:40.093635Z",
     "iopub.status.busy": "2024-04-13T12:12:40.093367Z",
     "iopub.status.idle": "2024-04-13T12:12:40.821689Z",
     "shell.execute_reply": "2024-04-13T12:12:40.820807Z"
    },
    "papermill": {
     "duration": 0.734719,
     "end_time": "2024-04-13T12:12:40.824110",
     "exception": false,
     "start_time": "2024-04-13T12:12:40.089391",
     "status": "completed"
    },
    "tags": []
   },
   "outputs": [],
   "source": [
    "import numpy as np # linear algebra\n",
    "import pandas as pd # data processing, CSV file I/O (e.g. pd.read_csv)\n",
  },
  {
   "cell_type": "markdown",
   "id": "23410d27",
   "metadata": {},
   "source": [
    "### 导入库\n",
    "**NumPy**库，它通常用于执行**线性代数**运算。\n",
    "**Pandas**库，这是一个强大的**数据处理**与分析工具。它在读取和写入CSV格式数据时特别有用。"
   ]
  },
  {
   "cell_type": "code",
   "execution_count": 3,
   "id": "e574e808",
   "metadata": {
    "execution": {
     "iopub.execute_input": "2024-04-13T12:12:40.831015Z",
     "iopub.status.busy": "2024-04-13T12:12:40.830626Z",
     "iopub.status.idle": "2024-04-13T12:12:42.271341Z",
     "shell.execute_reply": "2024-04-13T12:12:42.270549Z"
    },
    "papermill": {
     "duration": 1.446596,
     "end_time": "2024-04-13T12:12:42.273724",
     "exception": false,
     "start_time": "2024-04-13T12:12:40.827128",
     "status": "completed"
    },
    "tags": []
   },
   "outputs": [],
   "source": [
    "import numpy as np\n",
    "import matplotlib.pyplot as plt\n",
    "import pandas as pd\n",
    "import os\n",
    "from sklearn.linear_model import RidgeClassifier\n",
    "from sklearn.svm import LinearSVC\n",
    "from sklearn import linear_model\n",
    "from sklearn.ensemble import StackingClassifier\n",
    "from sklearn.ensemble import RandomForestClassifier\n",
    "from sklearn.ensemble import GradientBoostingClassifier\n",
    "from sklearn.neural_network import MLPClassifier\n",
    "from sklearn.linear_model import Lasso\n",
    "from sklearn.svm import SVC\n",
    "from sklearn.ensemble import ExtraTreesClassifier\n",
    "from sklearn.ensemble import AdaBoostClassifier\n",
    "from sklearn.tree import DecisionTreeClassifier\n",
    "from sklearn.neighbors import KNeighborsClassifier\n",
    "from sklearn.linear_model import SGDClassifier\n",
    "from xgboost import XGBClassifier\n",
    "from sklearn.metrics import confusion_matrix, accuracy_score\n",
    "plt.rcParams['font.family'] = 'Microsoft YaHei'"
   ]
  },
  {
   "cell_type": "markdown",
   "id": "3f7aa4d1",
   "metadata": {},
   "source": [
    "\n",
    "## 快速代码概要\n",
    "\n",
    "### 基本库\n",
    "- **Matplotlib**：用于绘制图表。\n",
    "\n",
    "### 机器学习模型\n",
    "- **Scikit-learn**：来自 `linear_model`、`svm`、`ensemble`、`neighbors` 和 `tree` 模块的各种分类器。\n",
    "- **XGBoost**：梯度提升框架。\n",
    "\n",
    "### 模型评估\n",
    "- **Metrics**：使用 `confusion_matrix` 和 `accuracy_score` 评估模型。"
   ]
  },
  {
   "cell_type": "code",
   "execution_count": 4,
   "id": "8597b616",
   "metadata": {
    "execution": {
     "iopub.execute_input": "2024-04-13T12:12:42.280307Z",
     "iopub.status.busy": "2024-04-13T12:12:42.279900Z",
     "iopub.status.idle": "2024-04-13T12:12:42.327197Z",
     "shell.execute_reply": "2024-04-13T12:12:42.326386Z"
    },
    "papermill": {
     "duration": 0.052752,
     "end_time": "2024-04-13T12:12:42.329180",
     "exception": false,
     "start_time": "2024-04-13T12:12:42.276428",
     "status": "completed"
    },
    "tags": []
   },
   "outputs": [
    {
     "data": {
      "text/html": [
       "<div>\n",
       "<style scoped>\n",
       "    .dataframe tbody tr th:only-of-type {\n",
       "        vertical-align: middle;\n",
       "    }\n",
       "\n",
       "    .dataframe tbody tr th {\n",
       "        vertical-align: top;\n",
       "    }\n",
       "\n",
       "    .dataframe thead th {\n",
       "        text-align: right;\n",
       "    }\n",
       "</style>\n",
       "<table border=\"1\" class=\"dataframe\">\n",
       "  <thead>\n",
       "    <tr style=\"text-align: right;\">\n",
       "      <th></th>\n",
       "      <th>id</th>\n",
       "      <th>diagnosis</th>\n",
       "      <th>radius_mean</th>\n",
       "      <th>texture_mean</th>\n",
       "      <th>perimeter_mean</th>\n",
       "      <th>area_mean</th>\n",
       "      <th>smoothness_mean</th>\n",
       "      <th>compactness_mean</th>\n",
       "      <th>concavity_mean</th>\n",
       "      <th>concave points_mean</th>\n",
       "      <th>...</th>\n",
       "      <th>texture_worst</th>\n",
       "      <th>perimeter_worst</th>\n",
       "      <th>area_worst</th>\n",
       "      <th>smoothness_worst</th>\n",
       "      <th>compactness_worst</th>\n",
       "      <th>concavity_worst</th>\n",
       "      <th>concave points_worst</th>\n",
       "      <th>symmetry_worst</th>\n",
       "      <th>fractal_dimension_worst</th>\n",
       "      <th>Unnamed: 32</th>\n",
       "    </tr>\n",
       "  </thead>\n",
       "  <tbody>\n",
       "    <tr>\n",
       "      <th>0</th>\n",
       "      <td>842302</td>\n",
       "      <td>M</td>\n",
       "      <td>17.99</td>\n",
       "      <td>10.38</td>\n",
       "      <td>122.80</td>\n",
       "      <td>1001.0</td>\n",
       "      <td>0.11840</td>\n",
       "      <td>0.27760</td>\n",
       "      <td>0.3001</td>\n",
       "      <td>0.14710</td>\n",
       "      <td>...</td>\n",
       "      <td>17.33</td>\n",
       "      <td>184.60</td>\n",
       "      <td>2019.0</td>\n",
       "      <td>0.1622</td>\n",
       "      <td>0.6656</td>\n",
       "      <td>0.7119</td>\n",
       "      <td>0.2654</td>\n",
       "      <td>0.4601</td>\n",
       "      <td>0.11890</td>\n",
       "      <td>NaN</td>\n",
       "    </tr>\n",
       "    <tr>\n",
       "      <th>1</th>\n",
       "      <td>842517</td>\n",
       "      <td>M</td>\n",
       "      <td>20.57</td>\n",
       "      <td>17.77</td>\n",
       "      <td>132.90</td>\n",
       "      <td>1326.0</td>\n",
       "      <td>0.08474</td>\n",
       "      <td>0.07864</td>\n",
       "      <td>0.0869</td>\n",
       "      <td>0.07017</td>\n",
       "      <td>...</td>\n",
       "      <td>23.41</td>\n",
       "      <td>158.80</td>\n",
       "      <td>1956.0</td>\n",
       "      <td>0.1238</td>\n",
       "      <td>0.1866</td>\n",
       "      <td>0.2416</td>\n",
       "      <td>0.1860</td>\n",
       "      <td>0.2750</td>\n",
       "      <td>0.08902</td>\n",
       "      <td>NaN</td>\n",
       "    </tr>\n",
       "    <tr>\n",
       "      <th>2</th>\n",
       "      <td>84300903</td>\n",
       "      <td>M</td>\n",
       "      <td>19.69</td>\n",
       "      <td>21.25</td>\n",
       "      <td>130.00</td>\n",
       "      <td>1203.0</td>\n",
       "      <td>0.10960</td>\n",
       "      <td>0.15990</td>\n",
       "      <td>0.1974</td>\n",
       "      <td>0.12790</td>\n",
       "      <td>...</td>\n",
       "      <td>25.53</td>\n",
       "      <td>152.50</td>\n",
       "      <td>1709.0</td>\n",
       "      <td>0.1444</td>\n",
       "      <td>0.4245</td>\n",
       "      <td>0.4504</td>\n",
       "      <td>0.2430</td>\n",
       "      <td>0.3613</td>\n",
       "      <td>0.08758</td>\n",
       "      <td>NaN</td>\n",
       "    </tr>\n",
       "    <tr>\n",
       "      <th>3</th>\n",
       "      <td>84348301</td>\n",
       "      <td>M</td>\n",
       "      <td>11.42</td>\n",
       "      <td>20.38</td>\n",
       "      <td>77.58</td>\n",
       "      <td>386.1</td>\n",
       "      <td>0.14250</td>\n",
       "      <td>0.28390</td>\n",
       "      <td>0.2414</td>\n",
       "      <td>0.10520</td>\n",
       "      <td>...</td>\n",
       "      <td>26.50</td>\n",
       "      <td>98.87</td>\n",
       "      <td>567.7</td>\n",
       "      <td>0.2098</td>\n",
       "      <td>0.8663</td>\n",
       "      <td>0.6869</td>\n",
       "      <td>0.2575</td>\n",
       "      <td>0.6638</td>\n",
       "      <td>0.17300</td>\n",
       "      <td>NaN</td>\n",
       "    </tr>\n",
       "    <tr>\n",
       "      <th>4</th>\n",
       "      <td>84358402</td>\n",
       "      <td>M</td>\n",
       "      <td>20.29</td>\n",
       "      <td>14.34</td>\n",
       "      <td>135.10</td>\n",
       "      <td>1297.0</td>\n",
       "      <td>0.10030</td>\n",
       "      <td>0.13280</td>\n",
       "      <td>0.1980</td>\n",
       "      <td>0.10430</td>\n",
       "      <td>...</td>\n",
       "      <td>16.67</td>\n",
       "      <td>152.20</td>\n",
       "      <td>1575.0</td>\n",
       "      <td>0.1374</td>\n",
       "      <td>0.2050</td>\n",
       "      <td>0.4000</td>\n",
       "      <td>0.1625</td>\n",
       "      <td>0.2364</td>\n",
       "      <td>0.07678</td>\n",
       "      <td>NaN</td>\n",
       "    </tr>\n",
       "  </tbody>\n",
       "</table>\n",
       "<p>5 rows × 33 columns</p>\n",
       "</div>"
      ],
      "text/plain": [
       "         id diagnosis  radius_mean  texture_mean  perimeter_mean  area_mean  \\\n",
       "0    842302         M        17.99         10.38          122.80     1001.0   \n",
       "1    842517         M        20.57         17.77          132.90     1326.0   \n",
       "2  84300903         M        19.69         21.25          130.00     1203.0   \n",
       "3  84348301         M        11.42         20.38           77.58      386.1   \n",
       "4  84358402         M        20.29         14.34          135.10     1297.0   \n",
       "\n",
       "   smoothness_mean  compactness_mean  concavity_mean  concave points_mean  \\\n",
       "0          0.11840           0.27760          0.3001              0.14710   \n",
       "1          0.08474           0.07864          0.0869              0.07017   \n",
       "2          0.10960           0.15990          0.1974              0.12790   \n",
       "3          0.14250           0.28390          0.2414              0.10520   \n",
       "4          0.10030           0.13280          0.1980              0.10430   \n",
       "\n",
       "   ...  texture_worst  perimeter_worst  area_worst  smoothness_worst  \\\n",
       "0  ...          17.33           184.60      2019.0            0.1622   \n",
       "1  ...          23.41           158.80      1956.0            0.1238   \n",
       "2  ...          25.53           152.50      1709.0            0.1444   \n",
       "3  ...          26.50            98.87       567.7            0.2098   \n",
       "4  ...          16.67           152.20      1575.0            0.1374   \n",
       "\n",
       "   compactness_worst  concavity_worst  concave points_worst  symmetry_worst  \\\n",
       "0             0.6656           0.7119                0.2654          0.4601   \n",
       "1             0.1866           0.2416                0.1860          0.2750   \n",
       "2             0.4245           0.4504                0.2430          0.3613   \n",
       "3             0.8663           0.6869                0.2575          0.6638   \n",
       "4             0.2050           0.4000                0.1625          0.2364   \n",
       "\n",
       "   fractal_dimension_worst  Unnamed: 32  \n",
       "0                  0.11890          NaN  \n",
       "1                  0.08902          NaN  \n",
       "2                  0.08758          NaN  \n",
       "3                  0.17300          NaN  \n",
       "4                  0.07678          NaN  \n",
       "\n",
       "[5 rows x 33 columns]"
      ]
     },
     "execution_count": 4,
     "metadata": {},
     "output_type": "execute_result"
    }
   ],
   "source": [
    "dataset = pd.read_csv('breast cancer.csv')\n",
    "dataset.head()"
   ]
  },
  {
   "cell_type": "code",
   "execution_count": 5,
   "id": "85cafa3a",
   "metadata": {
    "execution": {
     "iopub.execute_input": "2024-04-13T12:12:42.335794Z",
     "iopub.status.busy": "2024-04-13T12:12:42.335527Z",
     "iopub.status.idle": "2024-04-13T12:12:42.347436Z",
     "shell.execute_reply": "2024-04-13T12:12:42.346806Z"
    },
    "papermill": {
     "duration": 0.017421,
     "end_time": "2024-04-13T12:12:42.349464",
     "exception": false,
     "start_time": "2024-04-13T12:12:42.332043",
     "status": "completed"
    },
    "tags": []
   },
   "outputs": [],
   "source": [
    "X = dataset.iloc[:,[3,4,5,6,7,8,9,10,11,12,13,14,15,16,17,18,19,20,21,22]].values\n",
    "y = dataset.iloc[:, 1].values\n",
    "# Splitting the dataset into the Training set and Test set\n",
    "from sklearn.model_selection import train_test_split\n",
    "X_train, X_test, y_train, y_test = train_test_split(X, y, test_size = 0.20, random_state = 0)\n",
    "# Feature Scaling\n",
    "from sklearn.preprocessing import StandardScaler\n",
    "sc = StandardScaler()\n",
    "X_train = sc.fit_transform(X_train)\n",
    "X_test = sc.fit_transform(X_test)\n"
   ]
  },
  {
   "cell_type": "markdown",
   "id": "a234bf31",
   "metadata": {},
   "source": [
    "### 数据预处理步骤\n",
    "\n",
    "以下代码用来展示如何进行数据预处理，包括特征缩放和数据集的分割。\n",
    "\n",
    "```python\n",
    "# 导入数据集\n",
    "X = dataset.iloc[:,[3,4,5,6,7,8,9,10,11,12,13,14,15,16,17,18,19,20,21,22]].values\n",
    "y = dataset.iloc[:, 1].values\n",
    "\n",
    "# 将数据集拆分为训练集和测试集\n",
    "from sklearn.model_selection import train_test_split\n",
    "X_train, X_test, y_train, y_test = train_test_split(X, y, test_size = 0.20, random_state = 0)\n",
    "\n",
    "# 特征缩放\n",
    "from sklearn.preprocessing import StandardScaler\n",
    "sc = StandardScaler()\n",
    "X_train = sc.fit_transform(X_train)\n",
    "X_test = sc.fit_transform(X_test)\n"
   ]
  },
  {
   "cell_type": "code",
   "execution_count": 21,
   "id": "685b43ed",
   "metadata": {
    "execution": {
     "iopub.execute_input": "2024-04-13T12:12:42.356356Z",
     "iopub.status.busy": "2024-04-13T12:12:42.356083Z",
     "iopub.status.idle": "2024-04-13T12:12:46.520075Z",
     "shell.execute_reply": "2024-04-13T12:12:46.518882Z"
    },
    "papermill": {
     "duration": 4.170114,
     "end_time": "2024-04-13T12:12:46.522438",
     "exception": false,
     "start_time": "2024-04-13T12:12:42.352324",
     "status": "completed"
    },
    "tags": []
   },
   "outputs": [
    {
     "name": "stdout",
     "output_type": "stream",
     "text": [
      "Accuracy :  0.956140350877193\n",
      "[[65  3]\n",
      " [ 2 44]]\n"
     ]
    },
    {
     "data": {
      "image/png": "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",
      "text/plain": [
       "<Figure size 600x400 with 2 Axes>"
      ]
     },
     "metadata": {},
     "output_type": "display_data"
    }
   ],
   "source": [
    "from sklearn.experimental import enable_hist_gradient_boosting\n",
    "from sklearn.ensemble import HistGradientBoostingClassifier\n",
    "final_layer = StackingClassifier(\n",
    "     estimators=[  ('xgbr', XGBClassifier(criterion= 'gini', max_depth= 30, max_features= 'auto', min_samples_leaf= 0, n_estimators= 10)),\n",
    "                 ('dtr', DecisionTreeClassifier(random_state=40)),\n",
    "                 ('adbr', AdaBoostClassifier(random_state=40, n_estimators=200)),\n",
    "                 ('gbrt', HistGradientBoostingClassifier(random_state=40)),\n",
    "                 ('rf', RandomForestClassifier(random_state=40)),\n",
    "                 ],\n",
    "     final_estimator= RidgeClassifier(), passthrough=True, n_jobs=-1\n",
    ")\n",
    "multi_layer_Classifier = StackingClassifier(\n",
    "        estimators=[\n",
    "\n",
    "                 ('lr', RidgeClassifier()),\n",
    "                 ('lasso', Lasso(random_state=40)),\n",
    "                 ('svc', SVC(C=1, gamma=1e-6, kernel='rbf'))],\n",
    "         final_estimator=final_layer, passthrough=False, n_jobs=-1\n",
    "   )\n",
    "\n",
    "multi_layer_Classifier.fit(X_train, y_train)\n",
    "\n",
    "Y_pred = multi_layer_Classifier.predict(X_test)\n",
    "accuracy = accuracy_score(Y_pred, y_test)\n",
    "print(\"Accuracy : \" , accuracy)\n",
    "cm = confusion_matrix(Y_pred, y_test)\n",
    "print(cm)\n",
    "import seaborn as sns\n",
    "\n",
    "plt.figure(figsize=[6,4])\n",
    "sns.heatmap(cm,annot=True)\n",
    "plt.title(\"用热力图对混淆矩阵描绘分析图-张开显\")\n",
    "plt.show()"
   ]
  },
  {
   "cell_type": "markdown",
   "id": "121e7d55",
   "metadata": {},
   "source": [
    "### 多层堆叠分类器\n",
    "\n",
    "使用`StackingClassifier`构建多层模型，结合不同算法提高预测准确性。\n",
    "\n",
    "```python\n",
    "\n",
    "# 定义和训练多层堆叠分类器\n",
    "# 预测并计算准确率\n",
    "Y_pred = multi_layer_Classifier.predict(X_test)\n",
    "accuracy = accuracy_score(Y_pred, y_test)\n",
    "print(\"Accuracy : \", accuracy)\n",
    "\n",
    "# 绘制混淆矩阵热力图，实现可视化\n",
    "cm = confusion_matrix(Y_pred, y_test)\n",
    "sns.heatmap(cm, annot=True)\n"
   ]
  },
  {
   "cell_type": "code",
   "execution_count": 7,
   "id": "0e9dbc5a",
   "metadata": {},
   "outputs": [
    {
     "name": "stdout",
     "output_type": "stream",
     "text": [
      "0.9385964912280702\n",
      "              precision    recall  f1-score   support\n",
      "\n",
      "           B       0.94      0.96      0.95        67\n",
      "           M       0.93      0.91      0.92        47\n",
      "\n",
      "    accuracy                           0.94       114\n",
      "   macro avg       0.94      0.94      0.94       114\n",
      "weighted avg       0.94      0.94      0.94       114\n",
      "\n",
      "[[64  3]\n",
      " [ 4 43]]\n"
     ]
    }
   ],
   "source": [
    "# make predictions on test datasets\n",
    "from sklearn.metrics import classification_report\n",
    "SVM = SVC()\n",
    "SVM.fit(X_train, y_train)\n",
    "predictions= SVM.predict(X_test)\n",
    "print(accuracy_score(y_test, predictions))\n",
    "print(classification_report(y_test, predictions))\n",
    "print(confusion_matrix(y_test, predictions))\n",
    "\n"
   ]
  }
 ],
 "metadata": {
  "kaggle": {
   "accelerator": "nvidiaTeslaT4",
   "dataSources": [
    {
     "datasetId": 4458,
     "sourceId": 8204,
     "sourceType": "datasetVersion"
    },
    {
     "datasetId": 563570,
     "sourceId": 1085908,
     "sourceType": "datasetVersion"
    }
   ],
   "dockerImageVersionId": 30683,
   "isGpuEnabled": true,
   "isInternetEnabled": true,
   "language": "python",
   "sourceType": "notebook"
  },
  "kernelspec": {
   "display_name": "Python 3",
   "language": "python",
   "name": "python3"
  },
  "language_info": {
   "codemirror_mode": {
    "name": "ipython",
    "version": 3
   },
   "file_extension": ".py",
   "mimetype": "text/x-python",
   "name": "python",
   "nbconvert_exporter": "python",
   "pygments_lexer": "ipython3",
   "version": "3.11.4"
  },
  "papermill": {
   "default_parameters": {},
   "duration": 11.761203,
   "end_time": "2024-04-13T12:12:49.146404",
   "environment_variables": {},
   "exception": null,
   "input_path": "__notebook__.ipynb",
   "output_path": "__notebook__.ipynb",
   "parameters": {},
   "start_time": "2024-04-13T12:12:37.385201",
   "version": "2.5.0"
  }
 },
 "nbformat": 4,
 "nbformat_minor": 5
}
